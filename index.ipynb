{
 "cells": [
  {
   "cell_type": "markdown",
   "id": "55a77aca",
   "metadata": {},
   "source": [
    "# **PROJECT TITLE :ANALYZING USER BEHAVIOUR & MUSIC TRENDS ON SPOTIFY**"
   ]
  },
  {
   "cell_type": "markdown",
   "id": "84203a8c",
   "metadata": {},
   "source": [
    "<div style=\"text-align: center; margin-top: 20px;\">\n",
    "    <img src=\"https://c.tenor.com/iczjaEFdW20AAAAC/spotify-music.gif\"\n",
    "         style=\"display: block; margin: auto; border-radius: 10px;\">\n",
    "</div>\n"
   ]
  },
  {
   "cell_type": "markdown",
   "id": "85e02669",
   "metadata": {},
   "source": [
    "# **BUSINESS UNDERSTANDING**"
   ]
  },
  {
   "cell_type": "markdown",
   "id": "13d1529d",
   "metadata": {},
   "source": [
    "## **PROJECT OVERVIEW**\n",
    "This project centers on analyzing a Spotify dataset to explore user listening patterns, music trends, and the characteristics that contribute to a song's popularity. The dataset contains detailed information on individual tracks, including features such as danceability, energy, tempo, loudness, acousticness, and popularity scores, along with metadata like artist name, release date, and genre.\n"
   ]
  },
  {
   "cell_type": "markdown",
   "id": "a6dc4c76",
   "metadata": {},
   "source": [
    "## **PROBLEM STATEMENT**\n",
    "With the growing influence of music streaming platforms, understanding the factors that drive a song’s popularity is critical for artists, producers, and music marketers. This project aims to analyze user behavior and musical attributes using Spotify data to uncover key trends and insights.\n",
    "\n",
    "Specifically, the goal is to predict a song's popularity based on its audio features (such as danceability, energy, acousticness, and tempo), metadata (such as duration and explicit content), and artist-related information (such as followers and artist popularity)."
   ]
  },
  {
   "cell_type": "markdown",
   "id": "604ac74e",
   "metadata": {},
   "source": [
    "## **OBJECTIVES**\n",
    "1. To Analyzing Music Trends.\n",
    "2. To understand User Behavior.\n",
    "3. To Predict future popularity of songs or artists based on current trends and data.\n",
    "4. To Analyze regional differences in music streaming habit.\n"
   ]
  },
  {
   "cell_type": "code",
   "execution_count": 1,
   "id": "638bddac",
   "metadata": {},
   "outputs": [],
   "source": [
    "# Importing libraries\n",
    "import os\n",
    "import pandas as pd \n",
    "import numpy as np\n",
    "import matplotlib.pyplot as plt\n",
    "import seaborn as sns"
   ]
  },
  {
   "cell_type": "markdown",
   "id": "651d68fd",
   "metadata": {},
   "source": [
    "# **1. DATA LOADING & EXPLORATION**\n",
    "Data loading means opening and gathering all this Spotify data so we can start working with it.\n",
    "\n",
    "Once we have the data loaded, we want to get to know it — like flipping through the songs and playlists to understand what’s inside.\n",
    "\n",
    "Data exploration is like looking through the data to see what kind of user behavior and music trends it contains."
   ]
  },
  {
   "cell_type": "code",
   "execution_count": 2,
   "id": "c4eadbc3",
   "metadata": {},
   "outputs": [
    {
     "data": {
      "text/html": [
       "<div>\n",
       "<style scoped>\n",
       "    .dataframe tbody tr th:only-of-type {\n",
       "        vertical-align: middle;\n",
       "    }\n",
       "\n",
       "    .dataframe tbody tr th {\n",
       "        vertical-align: top;\n",
       "    }\n",
       "\n",
       "    .dataframe thead th {\n",
       "        text-align: right;\n",
       "    }\n",
       "</style>\n",
       "<table border=\"1\" class=\"dataframe\">\n",
       "  <thead>\n",
       "    <tr style=\"text-align: right;\">\n",
       "      <th></th>\n",
       "      <th>Unnamed: 0</th>\n",
       "      <th>artist_name</th>\n",
       "      <th>genres</th>\n",
       "      <th>followers</th>\n",
       "      <th>artist_popularity</th>\n",
       "      <th>artist_url</th>\n",
       "      <th>track_name</th>\n",
       "      <th>album_name</th>\n",
       "      <th>release_date</th>\n",
       "      <th>duration_ms</th>\n",
       "      <th>...</th>\n",
       "      <th>energy</th>\n",
       "      <th>key</th>\n",
       "      <th>loudness</th>\n",
       "      <th>mode</th>\n",
       "      <th>speechiness</th>\n",
       "      <th>acousticness</th>\n",
       "      <th>instrumentalness</th>\n",
       "      <th>liveness</th>\n",
       "      <th>valence</th>\n",
       "      <th>tempo</th>\n",
       "    </tr>\n",
       "  </thead>\n",
       "  <tbody>\n",
       "    <tr>\n",
       "      <th>0</th>\n",
       "      <td>0</td>\n",
       "      <td>Ariana Grande</td>\n",
       "      <td>pop</td>\n",
       "      <td>98934105</td>\n",
       "      <td>89</td>\n",
       "      <td>https://open.spotify.com/artist/66CXWjxzNUsdJx...</td>\n",
       "      <td>we can't be friends (wait for your love)</td>\n",
       "      <td>eternal sunshine</td>\n",
       "      <td>2024-03-08</td>\n",
       "      <td>228639</td>\n",
       "      <td>...</td>\n",
       "      <td>0.646</td>\n",
       "      <td>5</td>\n",
       "      <td>-8.334</td>\n",
       "      <td>1</td>\n",
       "      <td>0.0427</td>\n",
       "      <td>0.0615</td>\n",
       "      <td>0.000030</td>\n",
       "      <td>0.0740</td>\n",
       "      <td>0.295</td>\n",
       "      <td>115.842</td>\n",
       "    </tr>\n",
       "    <tr>\n",
       "      <th>1</th>\n",
       "      <td>1</td>\n",
       "      <td>Ariana Grande</td>\n",
       "      <td>pop</td>\n",
       "      <td>98934105</td>\n",
       "      <td>85</td>\n",
       "      <td>https://open.spotify.com/artist/66CXWjxzNUsdJx...</td>\n",
       "      <td>the boy is mine</td>\n",
       "      <td>eternal sunshine</td>\n",
       "      <td>2024-03-08</td>\n",
       "      <td>173639</td>\n",
       "      <td>...</td>\n",
       "      <td>0.630</td>\n",
       "      <td>7</td>\n",
       "      <td>-5.854</td>\n",
       "      <td>0</td>\n",
       "      <td>0.0434</td>\n",
       "      <td>0.1570</td>\n",
       "      <td>0.000000</td>\n",
       "      <td>0.0732</td>\n",
       "      <td>0.447</td>\n",
       "      <td>97.998</td>\n",
       "    </tr>\n",
       "    <tr>\n",
       "      <th>2</th>\n",
       "      <td>2</td>\n",
       "      <td>Ariana Grande</td>\n",
       "      <td>pop</td>\n",
       "      <td>98934105</td>\n",
       "      <td>83</td>\n",
       "      <td>https://open.spotify.com/artist/66CXWjxzNUsdJx...</td>\n",
       "      <td>intro (end of the world)</td>\n",
       "      <td>eternal sunshine</td>\n",
       "      <td>2024-03-08</td>\n",
       "      <td>92400</td>\n",
       "      <td>...</td>\n",
       "      <td>0.362</td>\n",
       "      <td>10</td>\n",
       "      <td>-9.480</td>\n",
       "      <td>1</td>\n",
       "      <td>0.0416</td>\n",
       "      <td>0.6700</td>\n",
       "      <td>0.000000</td>\n",
       "      <td>0.1760</td>\n",
       "      <td>0.385</td>\n",
       "      <td>84.726</td>\n",
       "    </tr>\n",
       "    <tr>\n",
       "      <th>3</th>\n",
       "      <td>3</td>\n",
       "      <td>Ariana Grande</td>\n",
       "      <td>pop</td>\n",
       "      <td>98934105</td>\n",
       "      <td>80</td>\n",
       "      <td>https://open.spotify.com/artist/66CXWjxzNUsdJx...</td>\n",
       "      <td>Save Your Tears (Remix) (with Ariana Grande) -...</td>\n",
       "      <td>After Hours (Deluxe)</td>\n",
       "      <td>2020-03-20</td>\n",
       "      <td>191013</td>\n",
       "      <td>...</td>\n",
       "      <td>0.825</td>\n",
       "      <td>0</td>\n",
       "      <td>-4.645</td>\n",
       "      <td>1</td>\n",
       "      <td>0.0325</td>\n",
       "      <td>0.0215</td>\n",
       "      <td>0.000024</td>\n",
       "      <td>0.0936</td>\n",
       "      <td>0.593</td>\n",
       "      <td>118.091</td>\n",
       "    </tr>\n",
       "    <tr>\n",
       "      <th>4</th>\n",
       "      <td>4</td>\n",
       "      <td>Ariana Grande</td>\n",
       "      <td>pop</td>\n",
       "      <td>98934105</td>\n",
       "      <td>79</td>\n",
       "      <td>https://open.spotify.com/artist/66CXWjxzNUsdJx...</td>\n",
       "      <td>yes, and?</td>\n",
       "      <td>eternal sunshine</td>\n",
       "      <td>2024-03-08</td>\n",
       "      <td>214994</td>\n",
       "      <td>...</td>\n",
       "      <td>0.775</td>\n",
       "      <td>1</td>\n",
       "      <td>-6.614</td>\n",
       "      <td>1</td>\n",
       "      <td>0.0548</td>\n",
       "      <td>0.1900</td>\n",
       "      <td>0.000065</td>\n",
       "      <td>0.1130</td>\n",
       "      <td>0.787</td>\n",
       "      <td>118.998</td>\n",
       "    </tr>\n",
       "  </tbody>\n",
       "</table>\n",
       "<p>5 rows × 23 columns</p>\n",
       "</div>"
      ],
      "text/plain": [
       "   Unnamed: 0    artist_name genres  followers  artist_popularity  \\\n",
       "0           0  Ariana Grande    pop   98934105                 89   \n",
       "1           1  Ariana Grande    pop   98934105                 85   \n",
       "2           2  Ariana Grande    pop   98934105                 83   \n",
       "3           3  Ariana Grande    pop   98934105                 80   \n",
       "4           4  Ariana Grande    pop   98934105                 79   \n",
       "\n",
       "                                          artist_url  \\\n",
       "0  https://open.spotify.com/artist/66CXWjxzNUsdJx...   \n",
       "1  https://open.spotify.com/artist/66CXWjxzNUsdJx...   \n",
       "2  https://open.spotify.com/artist/66CXWjxzNUsdJx...   \n",
       "3  https://open.spotify.com/artist/66CXWjxzNUsdJx...   \n",
       "4  https://open.spotify.com/artist/66CXWjxzNUsdJx...   \n",
       "\n",
       "                                          track_name            album_name  \\\n",
       "0           we can't be friends (wait for your love)      eternal sunshine   \n",
       "1                                    the boy is mine      eternal sunshine   \n",
       "2                           intro (end of the world)      eternal sunshine   \n",
       "3  Save Your Tears (Remix) (with Ariana Grande) -...  After Hours (Deluxe)   \n",
       "4                                          yes, and?      eternal sunshine   \n",
       "\n",
       "  release_date  duration_ms  ...  energy  key  loudness  mode  speechiness  \\\n",
       "0   2024-03-08       228639  ...   0.646    5    -8.334     1       0.0427   \n",
       "1   2024-03-08       173639  ...   0.630    7    -5.854     0       0.0434   \n",
       "2   2024-03-08        92400  ...   0.362   10    -9.480     1       0.0416   \n",
       "3   2020-03-20       191013  ...   0.825    0    -4.645     1       0.0325   \n",
       "4   2024-03-08       214994  ...   0.775    1    -6.614     1       0.0548   \n",
       "\n",
       "   acousticness  instrumentalness  liveness  valence    tempo  \n",
       "0        0.0615          0.000030    0.0740    0.295  115.842  \n",
       "1        0.1570          0.000000    0.0732    0.447   97.998  \n",
       "2        0.6700          0.000000    0.1760    0.385   84.726  \n",
       "3        0.0215          0.000024    0.0936    0.593  118.091  \n",
       "4        0.1900          0.000065    0.1130    0.787  118.998  \n",
       "\n",
       "[5 rows x 23 columns]"
      ]
     },
     "execution_count": 2,
     "metadata": {},
     "output_type": "execute_result"
    }
   ],
   "source": [
    "# Loading the dataset\n",
    "df_Spotify = pd.read_csv('Data/spotifydataset.csv')\n",
    "df_Spotify.head()"
   ]
  },
  {
   "cell_type": "code",
   "execution_count": 14,
   "id": "88d281ac",
   "metadata": {},
   "outputs": [
    {
     "name": "stdout",
     "output_type": "stream",
     "text": [
      "<class 'pandas.core.frame.DataFrame'>\n",
      "RangeIndex: 1000 entries, 0 to 999\n",
      "Data columns (total 24 columns):\n",
      " #   Column             Non-Null Count  Dtype         \n",
      "---  ------             --------------  -----         \n",
      " 0   Unnamed: 0         1000 non-null   int64         \n",
      " 1   artist_name        1000 non-null   object        \n",
      " 2   genres             1000 non-null   object        \n",
      " 3   followers          1000 non-null   int64         \n",
      " 4   artist_popularity  1000 non-null   int64         \n",
      " 5   artist_url         1000 non-null   object        \n",
      " 6   track_name         1000 non-null   object        \n",
      " 7   album_name         1000 non-null   object        \n",
      " 8   release_date       1000 non-null   datetime64[ns]\n",
      " 9   duration_ms        1000 non-null   int64         \n",
      " 10  explicit           1000 non-null   bool          \n",
      " 11  track_popularity   1000 non-null   int64         \n",
      " 12  danceability       1000 non-null   float64       \n",
      " 13  energy             1000 non-null   float64       \n",
      " 14  key                1000 non-null   int64         \n",
      " 15  loudness           1000 non-null   float64       \n",
      " 16  mode               1000 non-null   int64         \n",
      " 17  speechiness        1000 non-null   float64       \n",
      " 18  acousticness       1000 non-null   float64       \n",
      " 19  instrumentalness   1000 non-null   float64       \n",
      " 20  liveness           1000 non-null   float64       \n",
      " 21  valence            1000 non-null   float64       \n",
      " 22  tempo              1000 non-null   float64       \n",
      " 23  year               1000 non-null   int64         \n",
      "dtypes: bool(1), datetime64[ns](1), float64(9), int64(8), object(5)\n",
      "memory usage: 180.8+ KB\n"
     ]
    }
   ],
   "source": [
    "# Information about the dataframe\n",
    "df_Spotify.info()"
   ]
  },
  {
   "cell_type": "code",
   "execution_count": null,
   "id": "f7868247",
   "metadata": {},
   "outputs": [
    {
     "data": {
      "text/plain": [
       "(1000, 23)"
      ]
     },
     "execution_count": 4,
     "metadata": {},
     "output_type": "execute_result"
    }
   ],
   "source": [
    "# number of rows and columns in the dataframe\n",
    "df_Spotify.shape"
   ]
  },
  {
   "cell_type": "code",
   "execution_count": null,
   "id": "3fbc7472",
   "metadata": {},
   "outputs": [
    {
     "data": {
      "text/html": [
       "<div>\n",
       "<style scoped>\n",
       "    .dataframe tbody tr th:only-of-type {\n",
       "        vertical-align: middle;\n",
       "    }\n",
       "\n",
       "    .dataframe tbody tr th {\n",
       "        vertical-align: top;\n",
       "    }\n",
       "\n",
       "    .dataframe thead th {\n",
       "        text-align: right;\n",
       "    }\n",
       "</style>\n",
       "<table border=\"1\" class=\"dataframe\">\n",
       "  <thead>\n",
       "    <tr style=\"text-align: right;\">\n",
       "      <th></th>\n",
       "      <th>Unnamed: 0</th>\n",
       "      <th>followers</th>\n",
       "      <th>artist_popularity</th>\n",
       "      <th>duration_ms</th>\n",
       "      <th>track_popularity</th>\n",
       "      <th>danceability</th>\n",
       "      <th>energy</th>\n",
       "      <th>key</th>\n",
       "      <th>loudness</th>\n",
       "      <th>mode</th>\n",
       "      <th>speechiness</th>\n",
       "      <th>acousticness</th>\n",
       "      <th>instrumentalness</th>\n",
       "      <th>liveness</th>\n",
       "      <th>valence</th>\n",
       "      <th>tempo</th>\n",
       "    </tr>\n",
       "  </thead>\n",
       "  <tbody>\n",
       "    <tr>\n",
       "      <th>count</th>\n",
       "      <td>1000.000000</td>\n",
       "      <td>1.000000e+03</td>\n",
       "      <td>1000.000000</td>\n",
       "      <td>1000.000000</td>\n",
       "      <td>1000.000000</td>\n",
       "      <td>1000.000000</td>\n",
       "      <td>1000.000000</td>\n",
       "      <td>1000.000000</td>\n",
       "      <td>1000.000000</td>\n",
       "      <td>1000.000000</td>\n",
       "      <td>1000.000000</td>\n",
       "      <td>1000.000000</td>\n",
       "      <td>1000.000000</td>\n",
       "      <td>1000.000000</td>\n",
       "      <td>1000.000000</td>\n",
       "      <td>1000.000000</td>\n",
       "    </tr>\n",
       "    <tr>\n",
       "      <th>mean</th>\n",
       "      <td>499.500000</td>\n",
       "      <td>1.150655e+07</td>\n",
       "      <td>59.429000</td>\n",
       "      <td>212368.619000</td>\n",
       "      <td>59.429000</td>\n",
       "      <td>0.611430</td>\n",
       "      <td>0.660562</td>\n",
       "      <td>5.243000</td>\n",
       "      <td>-7.160373</td>\n",
       "      <td>0.613000</td>\n",
       "      <td>0.091402</td>\n",
       "      <td>0.265840</td>\n",
       "      <td>0.074700</td>\n",
       "      <td>0.188810</td>\n",
       "      <td>0.516641</td>\n",
       "      <td>122.143448</td>\n",
       "    </tr>\n",
       "    <tr>\n",
       "      <th>std</th>\n",
       "      <td>288.819436</td>\n",
       "      <td>2.293890e+07</td>\n",
       "      <td>23.884963</td>\n",
       "      <td>65706.472572</td>\n",
       "      <td>23.884963</td>\n",
       "      <td>0.167246</td>\n",
       "      <td>0.207568</td>\n",
       "      <td>3.613725</td>\n",
       "      <td>4.479642</td>\n",
       "      <td>0.487307</td>\n",
       "      <td>0.090441</td>\n",
       "      <td>0.288895</td>\n",
       "      <td>0.225472</td>\n",
       "      <td>0.145454</td>\n",
       "      <td>0.232896</td>\n",
       "      <td>28.053658</td>\n",
       "    </tr>\n",
       "    <tr>\n",
       "      <th>min</th>\n",
       "      <td>0.000000</td>\n",
       "      <td>2.000000e+00</td>\n",
       "      <td>0.000000</td>\n",
       "      <td>51680.000000</td>\n",
       "      <td>0.000000</td>\n",
       "      <td>0.069000</td>\n",
       "      <td>0.003540</td>\n",
       "      <td>0.000000</td>\n",
       "      <td>-39.482000</td>\n",
       "      <td>0.000000</td>\n",
       "      <td>0.023200</td>\n",
       "      <td>0.000005</td>\n",
       "      <td>0.000000</td>\n",
       "      <td>0.026000</td>\n",
       "      <td>0.032600</td>\n",
       "      <td>49.305000</td>\n",
       "    </tr>\n",
       "    <tr>\n",
       "      <th>25%</th>\n",
       "      <td>249.750000</td>\n",
       "      <td>1.038784e+06</td>\n",
       "      <td>57.000000</td>\n",
       "      <td>173083.000000</td>\n",
       "      <td>57.000000</td>\n",
       "      <td>0.505500</td>\n",
       "      <td>0.539500</td>\n",
       "      <td>2.000000</td>\n",
       "      <td>-8.334250</td>\n",
       "      <td>0.000000</td>\n",
       "      <td>0.037975</td>\n",
       "      <td>0.028325</td>\n",
       "      <td>0.000000</td>\n",
       "      <td>0.095700</td>\n",
       "      <td>0.343500</td>\n",
       "      <td>99.983500</td>\n",
       "    </tr>\n",
       "    <tr>\n",
       "      <th>50%</th>\n",
       "      <td>499.500000</td>\n",
       "      <td>3.923159e+06</td>\n",
       "      <td>67.000000</td>\n",
       "      <td>204382.500000</td>\n",
       "      <td>67.000000</td>\n",
       "      <td>0.634000</td>\n",
       "      <td>0.680500</td>\n",
       "      <td>5.000000</td>\n",
       "      <td>-5.943500</td>\n",
       "      <td>1.000000</td>\n",
       "      <td>0.054800</td>\n",
       "      <td>0.152500</td>\n",
       "      <td>0.000004</td>\n",
       "      <td>0.129000</td>\n",
       "      <td>0.522000</td>\n",
       "      <td>122.073500</td>\n",
       "    </tr>\n",
       "    <tr>\n",
       "      <th>75%</th>\n",
       "      <td>749.250000</td>\n",
       "      <td>1.142132e+07</td>\n",
       "      <td>74.000000</td>\n",
       "      <td>244192.750000</td>\n",
       "      <td>74.000000</td>\n",
       "      <td>0.728250</td>\n",
       "      <td>0.820000</td>\n",
       "      <td>9.000000</td>\n",
       "      <td>-4.582500</td>\n",
       "      <td>1.000000</td>\n",
       "      <td>0.106000</td>\n",
       "      <td>0.416250</td>\n",
       "      <td>0.000586</td>\n",
       "      <td>0.246500</td>\n",
       "      <td>0.686250</td>\n",
       "      <td>138.667250</td>\n",
       "    </tr>\n",
       "    <tr>\n",
       "      <th>max</th>\n",
       "      <td>999.000000</td>\n",
       "      <td>1.194287e+08</td>\n",
       "      <td>92.000000</td>\n",
       "      <td>707160.000000</td>\n",
       "      <td>92.000000</td>\n",
       "      <td>0.964000</td>\n",
       "      <td>0.998000</td>\n",
       "      <td>11.000000</td>\n",
       "      <td>0.273000</td>\n",
       "      <td>1.000000</td>\n",
       "      <td>0.874000</td>\n",
       "      <td>0.996000</td>\n",
       "      <td>0.972000</td>\n",
       "      <td>0.984000</td>\n",
       "      <td>0.973000</td>\n",
       "      <td>201.776000</td>\n",
       "    </tr>\n",
       "  </tbody>\n",
       "</table>\n",
       "</div>"
      ],
      "text/plain": [
       "        Unnamed: 0     followers  artist_popularity    duration_ms  \\\n",
       "count  1000.000000  1.000000e+03        1000.000000    1000.000000   \n",
       "mean    499.500000  1.150655e+07          59.429000  212368.619000   \n",
       "std     288.819436  2.293890e+07          23.884963   65706.472572   \n",
       "min       0.000000  2.000000e+00           0.000000   51680.000000   \n",
       "25%     249.750000  1.038784e+06          57.000000  173083.000000   \n",
       "50%     499.500000  3.923159e+06          67.000000  204382.500000   \n",
       "75%     749.250000  1.142132e+07          74.000000  244192.750000   \n",
       "max     999.000000  1.194287e+08          92.000000  707160.000000   \n",
       "\n",
       "       track_popularity  danceability       energy          key     loudness  \\\n",
       "count       1000.000000   1000.000000  1000.000000  1000.000000  1000.000000   \n",
       "mean          59.429000      0.611430     0.660562     5.243000    -7.160373   \n",
       "std           23.884963      0.167246     0.207568     3.613725     4.479642   \n",
       "min            0.000000      0.069000     0.003540     0.000000   -39.482000   \n",
       "25%           57.000000      0.505500     0.539500     2.000000    -8.334250   \n",
       "50%           67.000000      0.634000     0.680500     5.000000    -5.943500   \n",
       "75%           74.000000      0.728250     0.820000     9.000000    -4.582500   \n",
       "max           92.000000      0.964000     0.998000    11.000000     0.273000   \n",
       "\n",
       "              mode  speechiness  acousticness  instrumentalness     liveness  \\\n",
       "count  1000.000000  1000.000000   1000.000000       1000.000000  1000.000000   \n",
       "mean      0.613000     0.091402      0.265840          0.074700     0.188810   \n",
       "std       0.487307     0.090441      0.288895          0.225472     0.145454   \n",
       "min       0.000000     0.023200      0.000005          0.000000     0.026000   \n",
       "25%       0.000000     0.037975      0.028325          0.000000     0.095700   \n",
       "50%       1.000000     0.054800      0.152500          0.000004     0.129000   \n",
       "75%       1.000000     0.106000      0.416250          0.000586     0.246500   \n",
       "max       1.000000     0.874000      0.996000          0.972000     0.984000   \n",
       "\n",
       "           valence        tempo  \n",
       "count  1000.000000  1000.000000  \n",
       "mean      0.516641   122.143448  \n",
       "std       0.232896    28.053658  \n",
       "min       0.032600    49.305000  \n",
       "25%       0.343500    99.983500  \n",
       "50%       0.522000   122.073500  \n",
       "75%       0.686250   138.667250  \n",
       "max       0.973000   201.776000  "
      ]
     },
     "execution_count": 5,
     "metadata": {},
     "output_type": "execute_result"
    }
   ],
   "source": [
    "# Statistics of the dataframe\n",
    "df_Spotify.describe()"
   ]
  },
  {
   "cell_type": "code",
   "execution_count": 6,
   "id": "e96864af",
   "metadata": {},
   "outputs": [
    {
     "data": {
      "text/plain": [
       "Unnamed: 0             0\n",
       "artist_name            0\n",
       "genres               163\n",
       "followers              0\n",
       "artist_popularity      0\n",
       "artist_url             0\n",
       "track_name             0\n",
       "album_name             0\n",
       "release_date           0\n",
       "duration_ms            0\n",
       "explicit               0\n",
       "track_popularity       0\n",
       "danceability           0\n",
       "energy                 0\n",
       "key                    0\n",
       "loudness               0\n",
       "mode                   0\n",
       "speechiness            0\n",
       "acousticness           0\n",
       "instrumentalness       0\n",
       "liveness               0\n",
       "valence                0\n",
       "tempo                  0\n",
       "dtype: int64"
      ]
     },
     "execution_count": 6,
     "metadata": {},
     "output_type": "execute_result"
    }
   ],
   "source": [
    "# Checking for missing values\n",
    "df_Spotify.isnull().sum()"
   ]
  },
  {
   "cell_type": "markdown",
   "id": "b3c267bc",
   "metadata": {},
   "source": [
    "There are missing values in genres ."
   ]
  },
  {
   "cell_type": "markdown",
   "id": "54cdbce7",
   "metadata": {},
   "source": [
    "# **2.DATA CLEANING**\n",
    "Data cleaning is like tidying up my workspace or organizing my music collection before I start working with it.\n",
    "\n",
    "Data cleaning means fixing these issues so the data is reliable and accurate for analysis."
   ]
  },
  {
   "cell_type": "code",
   "execution_count": 7,
   "id": "2799780d",
   "metadata": {},
   "outputs": [
    {
     "data": {
      "text/plain": [
       "0"
      ]
     },
     "execution_count": 7,
     "metadata": {},
     "output_type": "execute_result"
    }
   ],
   "source": [
    "# Filling missing values with the mean\n",
    "most_common_genre = df_Spotify['genres'].mode()[0]\n",
    "df_Spotify['genres'] = df_Spotify['genres'].fillna(most_common_genre)\n",
    "df_Spotify['genres'].isnull().sum()"
   ]
  },
  {
   "cell_type": "code",
   "execution_count": 8,
   "id": "46d428d7",
   "metadata": {},
   "outputs": [
    {
     "name": "stdout",
     "output_type": "stream",
     "text": [
      "<class 'pandas.core.frame.DataFrame'>\n",
      "RangeIndex: 1000 entries, 0 to 999\n",
      "Data columns (total 23 columns):\n",
      " #   Column             Non-Null Count  Dtype  \n",
      "---  ------             --------------  -----  \n",
      " 0   Unnamed: 0         1000 non-null   int64  \n",
      " 1   artist_name        1000 non-null   object \n",
      " 2   genres             1000 non-null   object \n",
      " 3   followers          1000 non-null   int64  \n",
      " 4   artist_popularity  1000 non-null   int64  \n",
      " 5   artist_url         1000 non-null   object \n",
      " 6   track_name         1000 non-null   object \n",
      " 7   album_name         1000 non-null   object \n",
      " 8   release_date       1000 non-null   object \n",
      " 9   duration_ms        1000 non-null   int64  \n",
      " 10  explicit           1000 non-null   bool   \n",
      " 11  track_popularity   1000 non-null   int64  \n",
      " 12  danceability       1000 non-null   float64\n",
      " 13  energy             1000 non-null   float64\n",
      " 14  key                1000 non-null   int64  \n",
      " 15  loudness           1000 non-null   float64\n",
      " 16  mode               1000 non-null   int64  \n",
      " 17  speechiness        1000 non-null   float64\n",
      " 18  acousticness       1000 non-null   float64\n",
      " 19  instrumentalness   1000 non-null   float64\n",
      " 20  liveness           1000 non-null   float64\n",
      " 21  valence            1000 non-null   float64\n",
      " 22  tempo              1000 non-null   float64\n",
      "dtypes: bool(1), float64(9), int64(7), object(6)\n",
      "memory usage: 173.0+ KB\n"
     ]
    }
   ],
   "source": [
    "df_Spotify.info()"
   ]
  },
  {
   "cell_type": "code",
   "execution_count": null,
   "id": "421188b3",
   "metadata": {},
   "outputs": [],
   "source": [
    "# Save the cleaned dataset to excel\n",
    "df_Spotify.to_excel('Data/Spotifydataset_cleaned.xlsx', index=False)"
   ]
  },
  {
   "cell_type": "markdown",
   "id": "874a5e09",
   "metadata": {},
   "source": [
    "## **3.EDA (DATA ANALYSIS) & DATA VISUALIZATION**\n",
    "EDA is like getting to know my data — it’s the first step where i carefully examined the dataset to understand its main characteristics.\n",
    "\n",
    "Data Visualization is the process of creating charts, graphs, and maps that turn numbers and data into pictures."
   ]
  },
  {
   "cell_type": "markdown",
   "id": "c1e2d172",
   "metadata": {},
   "source": [
    "### **1. UNIVARIATE ANALYSIS**\n",
    "#### Checking for distribution of the data and visualizing it.\n",
    "\n",
    "#### Univariate analysis is the simplest form of data analysis — it examines just one variable at a time.\n",
    "\n",
    "#### Purpose: To understand the distribution, central tendency (mean, median), and spread (range, standard deviation) of a single variable.\n",
    "\n",
    "#### Examples include: Bar Graphs, Histogram, Box Plot, Pie Chart"
   ]
  },
  {
   "cell_type": "markdown",
   "id": "5e542281",
   "metadata": {},
   "source": [
    "### **1.Bar Charts: Top 15 genres by count**"
   ]
  },
  {
   "cell_type": "code",
   "execution_count": 10,
   "id": "22b3323e",
   "metadata": {},
   "outputs": [
    {
     "data": {
      "image/png": "[encoded data removed]",
      "text/plain": [
       "<Figure size 720x432 with 1 Axes>"
      ]
     },
     "metadata": {
      "needs_background": "light"
     },
     "output_type": "display_data"
    }
   ],
   "source": [
    "top_genres = df_Spotify['genres'].value_counts().head(15)\n",
    "colors = plt.cm.tab10.colors[:len(top_genres)] \n",
    "plt.figure(figsize=(10, 6))\n",
    "plt.bar(top_genres.index, top_genres.values, color=colors)\n",
    "plt.xticks(rotation=45, ha='right')\n",
    "plt.title('Top 15 Genres')\n",
    "plt.xlabel('Genre')\n",
    "plt.ylabel('Count')\n",
    "plt.tight_layout()\n",
    "plt.show()\n"
   ]
  },
  {
   "cell_type": "markdown",
   "id": "55039855",
   "metadata": {},
   "source": [
    "Pop is the most common genre in the dataset, with about 250 tracks labeled as pop, indicating a mainstream music focus."
   ]
  },
  {
   "cell_type": "markdown",
   "id": "e2e10a08",
   "metadata": {},
   "source": [
    "### **2. Histogram: Distribution of danceability**"
   ]
  },
  {
   "cell_type": "code",
   "execution_count": 16,
   "id": "a22fa23e",
   "metadata": {},
   "outputs": [
    {
     "data": {
      "image/png": "[encoded data removed]",
      "text/plain": [
       "<Figure size 576x360 with 1 Axes>"
      ]
     },
     "metadata": {
      "needs_background": "light"
     },
     "output_type": "display_data"
    }
   ],
   "source": [
    "plt.figure(figsize=(8, 5))\n",
    "plt.hist(df_Spotify['danceability'], bins=30, color='green', edgecolor='black')\n",
    "plt.title('Danceability Distribution')\n",
    "plt.xlabel('Danceability')\n",
    "plt.ylabel('Frequency')\n",
    "plt.show()\n"
   ]
  },
  {
   "cell_type": "markdown",
   "id": "4f0323a2",
   "metadata": {},
   "source": [
    "The above Histogram suggests that most songs have moderate danceability, rather than extreme high or low values."
   ]
  },
  {
   "cell_type": "markdown",
   "id": "44bff35e",
   "metadata": {},
   "source": [
    "### **2. BIVARIATE ANALYSIS**\n",
    "#### Checking for correlations; multiple Xs and Y\n",
    "\n",
    "#### Bivariate analysis explores the relationship between two variables.\n",
    "\n",
    "#### Purpose: To identify whether and how the variables are related — for example, does one increase when the other does?\n",
    "\n",
    "#### Examples include: Heatmaps, Line Graphs,Bar Plot, Scatter Plot ."
   ]
  },
  {
   "cell_type": "markdown",
   "id": "8406c9ef",
   "metadata": {},
   "source": [
    "### **1. Line Plot: Distribution of danceability**"
   ]
  },
  {
   "cell_type": "code",
   "execution_count": 15,
   "id": "ff22b54b",
   "metadata": {},
   "outputs": [
    {
     "data": {
      "image/png": "[encoded data removed]",
      "text/plain": [
       "<Figure size 720x432 with 1 Axes>"
      ]
     },
     "metadata": {
      "needs_background": "light"
     },
     "output_type": "display_data"
    }
   ],
   "source": [
    "df_Spotify['release_date'] = pd.to_datetime(df_Spotify['release_date'], errors='coerce')\n",
    "df_Spotify['year'] = df_Spotify['release_date'].dt.year\n",
    "\n",
    "yearly_counts = df_Spotify['year'].value_counts().sort_index()\n",
    "\n",
    "plt.figure(figsize=(10, 6))\n",
    "plt.plot(yearly_counts.index, yearly_counts.values, marker='o')\n",
    "plt.title('Number of Tracks Released by Year')\n",
    "plt.xlabel('Year')\n",
    "plt.ylabel('Number of Tracks')\n",
    "plt.grid(True)\n",
    "plt.show()\n"
   ]
  },
  {
   "cell_type": "markdown",
   "id": "10e3aa5d",
   "metadata": {},
   "source": [
    "Most tracks in the dataset were released in 2020, followed by 2019 and 2018.This suggests the dataset is heavily weighted toward recent years, especially 2017–2021."
   ]
  },
  {
   "cell_type": "markdown",
   "id": "742bdc35",
   "metadata": {},
   "source": [
    "### **3. MULTIVARIATE ANALYSIS**\n",
    "\n",
    "#### way of exploring how three or more variables (characteristics) relate to each other at the same time.\n",
    "\n",
    "#### Purpose: To understand complex relationships and interactions among multiple variables.\n",
    "\n",
    "#### Examples include: Heatmaps, Scatterplots, Pairplots, 3D Scatter Plot, Parallel Coordinates Plot\n"
   ]
  },
  {
   "cell_type": "markdown",
   "id": "ec2dad9b",
   "metadata": {},
   "source": [
    "### **1. Number of songs released by year: Energy vs Popularity**"
   ]
  },
  {
   "cell_type": "code",
   "execution_count": 11,
   "id": "839d1f69",
   "metadata": {},
   "outputs": [
    {
     "data": {
      "image/png": "[encoded data removed]",
      "text/plain": [
       "<Figure size 576x360 with 1 Axes>"
      ]
     },
     "metadata": {
      "needs_background": "light"
     },
     "output_type": "display_data"
    }
   ],
   "source": [
    "plt.figure(figsize=(8, 5))\n",
    "plt.scatter(df_Spotify['energy'], df_Spotify['track_popularity'], alpha=0.6, color='purple')\n",
    "plt.title('Energy vs Track Popularity')\n",
    "plt.xlabel('Energy')\n",
    "plt.ylabel('Popularity')\n",
    "plt.grid(True)\n",
    "plt.show()\n"
   ]
  },
  {
   "cell_type": "markdown",
   "id": "8ab5e719",
   "metadata": {},
   "source": [
    "The Energy vs Popularity implies that energy doesn't directly affect popularity and other features might matter more (like genre, danceability)."
   ]
  },
  {
   "cell_type": "markdown",
   "id": "95071de5",
   "metadata": {},
   "source": [
    "# **4. DATA MODELLING**\n",
    "Data modeling is the process of using statistical, mathematical, or machine learning models to understand relationships in data and make predictions or inferences."
   ]
  },
  {
   "cell_type": "code",
   "execution_count": 19,
   "id": "6dbbdd93",
   "metadata": {},
   "outputs": [],
   "source": [
    "# Prapare the data \n",
    "import pandas as pd\n",
    "\n",
    "# Load your data\n",
    "df = pd.read_csv('Data/spotifydataset.csv')\n",
    "\n",
    "# Drop irrelevant columns\n",
    "df_model = df.drop(columns=['Unnamed: 0', 'artist_name', 'genres', 'artist_url', 'track_name', 'album_name', 'release_date'])\n",
    "\n",
    "# Convert 'explicit' from boolean to numeric\n",
    "df_model['explicit'] = df_model['explicit'].astype(int)\n"
   ]
  },
  {
   "cell_type": "code",
   "execution_count": 20,
   "id": "a041f777",
   "metadata": {},
   "outputs": [],
   "source": [
    "# Split Features and Target\n",
    "# features\n",
    "X = df_model.drop(\"track_popularity\", axis=1)\n",
    "\n",
    "# target\n",
    "y = df_model[\"track_popularity\"]               \n"
   ]
  },
  {
   "cell_type": "code",
   "execution_count": 21,
   "id": "fbfc3f0e",
   "metadata": {},
   "outputs": [],
   "source": [
    "# Train-Test Split\n",
    "from sklearn.model_selection import train_test_split\n",
    "\n",
    "X_train, X_test, y_train, y_test = train_test_split(X, y, test_size=0.2, random_state=42)\n"
   ]
  },
  {
   "cell_type": "code",
   "execution_count": 22,
   "id": "e7ff626a",
   "metadata": {},
   "outputs": [
    {
     "data": {
      "text/plain": [
       "LinearRegression()"
      ]
     },
     "execution_count": 22,
     "metadata": {},
     "output_type": "execute_result"
    }
   ],
   "source": [
    "# Train a Model (Linear Regression)\n",
    "from sklearn.linear_model import LinearRegression\n",
    "\n",
    "model = LinearRegression()\n",
    "model.fit(X_train, y_train)\n"
   ]
  },
  {
   "cell_type": "code",
   "execution_count": 23,
   "id": "a01a5b77",
   "metadata": {},
   "outputs": [
    {
     "name": "stdout",
     "output_type": "stream",
     "text": [
      "Mean Squared Error: 0.00\n",
      "R-squared Score: 1.00\n"
     ]
    }
   ],
   "source": [
    "# Evaluate the Model\n",
    "from sklearn.metrics import mean_squared_error, r2_score\n",
    "\n",
    "# Predict\n",
    "y_pred = model.predict(X_test)\n",
    "\n",
    "# Evaluation\n",
    "mse = mean_squared_error(y_test, y_pred)\n",
    "r2 = r2_score(y_test, y_pred)\n",
    "\n",
    "print(f\"Mean Squared Error: {mse:.2f}\")\n",
    "print(f\"R-squared Score: {r2:.2f}\")\n"
   ]
  }
 ],
 "metadata": {
  "kernelspec": {
   "display_name": "learn-env",
   "language": "python",
   "name": "python3"
  },
  "language_info": {
   "codemirror_mode": {
    "name": "ipython",
    "version": 3
   },
   "file_extension": ".py",
   "mimetype": "text/x-python",
   "name": "python",
   "nbconvert_exporter": "python",
   "pygments_lexer": "ipython3",
   "version": "3.8.5"
  }
 },
 "nbformat": 4,
 "nbformat_minor": 5
}
